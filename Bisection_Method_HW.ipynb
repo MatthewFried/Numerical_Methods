{
  "nbformat": 4,
  "nbformat_minor": 0,
  "metadata": {
    "colab": {
      "name": "Bisection Method HW.ipynb",
      "provenance": [],
      "authorship_tag": "ABX9TyN9dVTCoOFrsVdBAYmpYv7H",
      "include_colab_link": true
    },
    "kernelspec": {
      "name": "python3",
      "display_name": "Python 3"
    }
  },
  "cells": [
    {
      "cell_type": "markdown",
      "metadata": {
        "id": "view-in-github",
        "colab_type": "text"
      },
      "source": [
        "<a href=\"https://colab.research.google.com/github/MatthewFried/Numerical_Methods/blob/main/Bisection_Method_HW.ipynb\" target=\"_parent\"><img src=\"https://colab.research.google.com/assets/colab-badge.svg\" alt=\"Open In Colab\"/></a>"
      ]
    },
    {
      "cell_type": "markdown",
      "metadata": {
        "id": "71ZSxTbC_iHG"
      },
      "source": [
        "![Data](https://drive.google.com/uc?export=view&id=1_UkWSKQF-l1Y_51Dl7x-paVqMky9P5kZ)\r\n",
        "\r\n",
        "<br>\r\n",
        "</br>\r\n",
        "\r\n",
        "Here we use the typical bisection method approach as expounded in Sauer.  The code takes in an array of coefficients (starting from the $x^{0}$ position and up].  It will return a NaN if f_a and f_b have the same sign.  It uses the solveIt function to solve $f(x)$."
      ]
    },
    {
      "cell_type": "code",
      "metadata": {
        "id": "xB-Yz1tSc8N5"
      },
      "source": [
        "import math\r\n",
        "\r\n",
        "def solveIt(f,x):\r\n",
        "  val = 0\r\n",
        "  for i in range(len(f)):\r\n",
        "    val += f[i]*(x**i)\r\n",
        "  return val\r\n",
        "\r\n",
        "def bisection(f,a,b,tol):\r\n",
        "  f_a = solveIt(f,a)\r\n",
        "  f_b = solveIt(f,b)\r\n",
        "\r\n",
        "  #check that there is no zero in the range\r\n",
        "  if (math.copysign(1, f_a)*math.copysign(1, f_b)>= 0):\r\n",
        "    return 'NaN'\r\n",
        "  else:\r\n",
        "    while ((b-a)/2) > tol:\r\n",
        "      c = (a+b)/2\r\n",
        "      f_c = solveIt(f,c)\r\n",
        "      if f_c == 0:\r\n",
        "        return c\r\n",
        "      else:\r\n",
        "        if (math.copysign(1, f_c)*math.copysign(1, f_a)< 0):\r\n",
        "          b = c\r\n",
        "          f_b = f_c\r\n",
        "        else:\r\n",
        "          a = c\r\n",
        "          f_a = f_c\r\n",
        "  return (a+b)/2"
      ],
      "execution_count": null,
      "outputs": []
    },
    {
      "cell_type": "code",
      "metadata": {
        "colab": {
          "base_uri": "https://localhost:8080/"
        },
        "id": "mwL8OMgdoIgQ",
        "outputId": "1ecfa3f2-1c82-4059-d23f-12d188fb507c"
      },
      "source": [
        "#put in the array coefficients, starting from position where x^0 until x^k\r\n",
        "coef = [-1,1,0,1]\r\n",
        "\r\n",
        "#test the interval [-1,0]\r\n",
        "#if we return NaN, then there is no 0 in that range\r\n",
        "print('Range from [-1,0]:\\t',bisection(coef,-1,0,.00005))\r\n",
        "\r\n",
        "#test [0,1] with different tolerances\r\n",
        "print('tolerance set to 1:\\t',bisection(coef,0,1,1))\r\n",
        "print('tolerance set to .5:\\t',bisection(coef,0,1,.5))\r\n",
        "print('tolerance set to 1e-15:\\t',bisection(coef,0,1,.0000000000001))"
      ],
      "execution_count": null,
      "outputs": [
        {
          "output_type": "stream",
          "text": [
            "Range from [-1,0]:\t NaN\n",
            "tolerance set to 1:\t 0.5\n",
            "tolerance set to .5:\t 0.5\n",
            "tolerance set to 1e-15:\t 0.6823278038280591\n"
          ],
          "name": "stdout"
        }
      ]
    },
    {
      "cell_type": "markdown",
      "metadata": {
        "id": "GaY5FNY3zaGw"
      },
      "source": [
        "#Bisection Method with Symbols\r\n",
        "\r\n",
        "Without our fix for checking continuity, the bisection method clearly does not give the correct answer.  Since $tan(x)=0$ is not continuous at $pi/2$, we must check that ahead.\r\n",
        "\r\n",
        "We use sympy and continuous_domain to model our problem.  Sympy uses functions such as *subs* and *evalf* to fill in and evaluate the function.  While continuous_domain returns a Union if the function is not continuous, which we check for (otherwise it returns the stated interval, which we ignore)."
      ]
    },
    {
      "cell_type": "code",
      "metadata": {
        "colab": {
          "base_uri": "https://localhost:8080/"
        },
        "id": "sDzZQr2Aq6xL",
        "outputId": "280d52b8-ffcc-45a2-c54f-2cfcbf99629c"
      },
      "source": [
        "from sympy import *\r\n",
        "from sympy.calculus.util import continuous_domain\r\n",
        "\r\n",
        "def bisection2(f,a,b,tol):\r\n",
        "  f_a = f.subs(x,a).evalf()\r\n",
        "  f_b = f.subs(x,b).evalf()\r\n",
        "\r\n",
        "  #check that there actually is a zero in the range\r\n",
        "  #if not, check for continuity\r\n",
        "  if (sign(f_a)*sign(f_b)>= 0):\r\n",
        "    return 'NaN'\r\n",
        "  else:\r\n",
        "    cont = continuous_domain(f, x, Interval(a,b))\r\n",
        "    if (isinstance(cont, Union)):\r\n",
        "      return 'Not continuous'\r\n",
        "  \r\n",
        "  while ((b-a)/2) > tol:\r\n",
        "    c = (a+b)/2\r\n",
        "    f_c = f.subs(x,c).evalf()\r\n",
        "\r\n",
        "    if f_c == 0:\r\n",
        "      return c\r\n",
        "    else:\r\n",
        "      if (sign(f_c)*sign(f_a)< 0):\r\n",
        "        b = c\r\n",
        "        f_b = f_c\r\n",
        "      else:\r\n",
        "        a = c\r\n",
        "        f_a = f_c\r\n",
        "  return (a+b)/2\r\n",
        "\r\n",
        "x = symbols('x')\r\n",
        "func = tan(x)\r\n",
        "\r\n",
        "print(bisection2(func,1,2,.000005))"
      ],
      "execution_count": null,
      "outputs": [
        {
          "output_type": "stream",
          "text": [
            "Not continuous\n"
          ],
          "name": "stdout"
        }
      ]
    },
    {
      "cell_type": "markdown",
      "metadata": {
        "id": "SGD6g4R86Li6"
      },
      "source": [
        "#Multiple Roots and Decimal Places\r\n",
        "\r\n",
        "To find multiple roots we can test multiple slices of the interval or we can sketch it out.  \r\n",
        "\r\n",
        "To get the correct decimal up until a certain spot we usethe formulas $1/2^{n+1} < .5*10^{-6} $ \r\n",
        "\r\n",
        "\r\n",
        "---\r\n",
        "\r\n",
        "\r\n",
        "$2x^{3}-6x-1$\r\n",
        "![Data](https://drive.google.com/uc?export=view&id=1X8OCAZYuuo942FzFI18k6tZPzY2rBvyn)\r\n",
        "\r\n",
        "<br>\r\n",
        "</br>\r\n",
        "\r\n",
        "\r\n",
        "\r\n",
        "---\r\n",
        "\r\n",
        "\r\n",
        "\r\n",
        "![Data](https://drive.google.com/uc?export=view&id=1GUmHW8nJ_PuXDdSuCMhEyCJulvG7bAG_)\r\n",
        "\r\n"
      ]
    },
    {
      "cell_type": "code",
      "metadata": {
        "colab": {
          "base_uri": "https://localhost:8080/"
        },
        "id": "DnyE_QfM8r5M",
        "outputId": "e55a4cb8-f11b-4200-c7d1-4284d9192e98"
      },
      "source": [
        "#check the number of decimal places\r\n",
        "\r\n",
        "#equation one\r\n",
        "x  = math.ceil(6 / (math.log10(2)))\r\n",
        "print(x)"
      ],
      "execution_count": null,
      "outputs": [
        {
          "output_type": "stream",
          "text": [
            "20\n"
          ],
          "name": "stdout"
        }
      ]
    },
    {
      "cell_type": "code",
      "metadata": {
        "colab": {
          "base_uri": "https://localhost:8080/"
        },
        "id": "e0zT4sz39KBX",
        "outputId": "1b50aa58-cd5b-4955-dbb6-03e664ccf226"
      },
      "source": [
        "#bisection method where you can put in how many iterations you want\r\n",
        "\r\n",
        "def bisection_num_iterations(f,a,b,num_iters):\r\n",
        "  f_a = solveIt(f,a)\r\n",
        "  f_b = solveIt(f,b)\r\n",
        "\r\n",
        "  #check that there actually is a zero in the range\r\n",
        "  if (math.copysign(1, f_a)*math.copysign(1, f_b)>= 0):\r\n",
        "    return 'NaN'\r\n",
        "  else:\r\n",
        "    for i in range(num_iters):\r\n",
        "      c = (a+b)/2\r\n",
        "      f_c = solveIt(f,c)\r\n",
        "      if f_c == 0:\r\n",
        "        return c\r\n",
        "      else:\r\n",
        "        if (math.copysign(1, f_c)*math.copysign(1, f_a)< 0):\r\n",
        "          b = c\r\n",
        "          f_b = f_c\r\n",
        "        else:\r\n",
        "          a = c\r\n",
        "          f_a = f_c\r\n",
        "  return (a+b)/2\r\n",
        "\r\n",
        "print(bisection_num_iterations([-1,-6,0,2],-2,-1,20))\r\n",
        "print(bisection_num_iterations([-1,-6,0,2],-1,1,20))\r\n",
        "print(bisection_num_iterations([-1,-6,0,2],1,2,20))"
      ],
      "execution_count": null,
      "outputs": [
        {
          "output_type": "stream",
          "text": [
            "-1.6417832374572754\n",
            "-0.16825389862060547\n",
            "1.8100380897521973\n"
          ],
          "name": "stdout"
        }
      ]
    },
    {
      "cell_type": "code",
      "metadata": {
        "colab": {
          "base_uri": "https://localhost:8080/"
        },
        "id": "LWoTnemy_Peq",
        "outputId": "6a00fe64-7b2f-409e-ebb3-2e374329d042"
      },
      "source": [
        "from sympy import *\r\n",
        "from sympy.calculus.util import continuous_domain\r\n",
        "\r\n",
        "def bisection2_num_iterations(f,a,b,num_iters):\r\n",
        "  f_a = f.subs(x,a).evalf()\r\n",
        "  f_b = f.subs(x,b).evalf()\r\n",
        "\r\n",
        "  #check that there actually is a zero in the range\r\n",
        "  #if not, check for continuity\r\n",
        "  if (sign(f_a)*sign(f_b)>= 0):\r\n",
        "    return 'NaN'\r\n",
        "  else:\r\n",
        "    cont = continuous_domain(f, x, Interval(a,b))\r\n",
        "    if (isinstance(cont, Union)):\r\n",
        "      return 'Not continuous'\r\n",
        "  \r\n",
        "  for i in range(num_iters):\r\n",
        "    c = (a+b)/2\r\n",
        "    f_c = f.subs(x,c).evalf()\r\n",
        "\r\n",
        "    if f_c == 0:\r\n",
        "      return c\r\n",
        "    else:\r\n",
        "      if (sign(f_c)*sign(f_a)< 0):\r\n",
        "        b = c\r\n",
        "        f_b = f_c\r\n",
        "      else:\r\n",
        "        a = c\r\n",
        "        f_a = f_c\r\n",
        "  return (a+b)/2\r\n",
        "\r\n",
        "x = symbols('x')\r\n",
        "func = exp(x-2)+x**3-x\r\n",
        "\r\n",
        "print(bisection2_num_iterations(func,-1.5,0,20))\r\n",
        "print(bisection2_num_iterations(func,0,.5,20))\r\n",
        "print(bisection2_num_iterations(func,.5,1,20))"
      ],
      "execution_count": null,
      "outputs": [
        {
          "output_type": "stream",
          "text": [
            "-1.0234816074371338\n",
            "0.16382241249084473\n",
            "0.7889416217803955\n"
          ],
          "name": "stdout"
        }
      ]
    }
  ]
}