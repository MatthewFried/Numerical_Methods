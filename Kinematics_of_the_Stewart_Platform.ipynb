{
  "nbformat": 4,
  "nbformat_minor": 0,
  "metadata": {
    "colab": {
      "name": "Kinematics of the Stewart Platform.ipynb",
      "provenance": [],
      "collapsed_sections": [],
      "authorship_tag": "ABX9TyNuA8IqLazS0FsVRdT0Hk96",
      "include_colab_link": true
    },
    "kernelspec": {
      "name": "python3",
      "display_name": "Python 3"
    }
  },
  "cells": [
    {
      "cell_type": "markdown",
      "metadata": {
        "id": "view-in-github",
        "colab_type": "text"
      },
      "source": [
        "<a href=\"https://colab.research.google.com/github/MatthewFried/Numerical_Methods/blob/main/Kinematics_of_the_Stewart_Platform.ipynb\" target=\"_parent\"><img src=\"https://colab.research.google.com/assets/colab-badge.svg\" alt=\"Open In Colab\"/></a>"
      ]
    },
    {
      "cell_type": "markdown",
      "metadata": {
        "id": "7LbqCgj_KqJZ"
      },
      "source": [
        "# Kinematics of the Steward Platform\r\n",
        "\r\n",
        "A Stewart platform consists of six struts supporting a payload.  It can be thought of as a six-degree-of-freedom robot.  Our task is to use the 2-dimensional case as outlined in Sauer's book, to solve the calculations needed in finding the positions of the different struts.\r\n",
        "\r\n",
        "We have variables $p1, p2, p3, L1, L2, L3, gamma, x1, x2, y2, $ and $ theta$ that we can use to find (x,y).  Each solution of theta corresponds to an (x,y) which is a new position that the robot can be in.  Our goal is to find the zeros for theta and thus the possible positions.\r\n",
        "\r\n",
        "To do this we use:\r\n",
        "```\r\n",
        "A2 = L3*cos(theta) - x1\r\n",
        "B2 = L3*sin(theta)\r\n",
        "A3 = L2*cos(theta + gamma)-x2\r\n",
        "B3 = L2*sin(theta+gamma)-y2\r\n",
        "```\r\n",
        "which we substitute into the below to solve for (x,y)\r\n",
        "```\r\n",
        "N1 = B3(p2**2-p1**2-A2**2-B2**2)-B2(p3**2-p1**2-A3**2-B3**2)\r\n",
        "N2 = -A3(p2**2-p1**2-A2**2-B2**2)+A2(p3**2-p1**2-A3**2-B3**2)\r\n",
        "D = 2(A2B3-B2A3)\r\n",
        "```\r\n",
        "with $$x = \\frac{N_1}{D}$$ and $$y=\\frac{N_2}{D}$$\r\n",
        "\r\n",
        "The below bisection method code is the same I used in the previous solution set.  I use sympy to solve the relational set up.  The application of the bisection method is slow, but it works in every case.  I create wrapper functions in order to find all solutions.\r\n",
        "\r\n",
        "In sympy, one can substitute values in using *subs*, however, I left it as one long equation to make it easier to track.  The bisection method takes in the function, bounds, and the tolerance, and it checks that there is a solution, then continues to check the median until the tolerance is met.\r\n",
        "\r\n",
        "The *evalf* function from sympy is used to evaluate the function at each step."
      ]
    },
    {
      "cell_type": "code",
      "metadata": {
        "id": "sDzZQr2Aq6xL"
      },
      "source": [
        "from sympy import *\r\n",
        "from sympy.calculus.util import continuous_domain\r\n",
        "import matplotlib.pyplot as mpl\r\n",
        "import math\r\n",
        "\r\n",
        "def bisection2(f,a,b,tol):\r\n",
        "  f_a = f.subs({L1:2, L2:sqrt(2), L3:sqrt(2), gamma:pi/2, p1:sqrt(5),p2:sqrt(5),p3:sqrt(5),x1:4,x2:0,y2:4,theta:a }).evalf()\r\n",
        "\r\n",
        "  f_b = f.subs({L1:2, L2:sqrt(2), L3:sqrt(2), gamma:pi/2, p1:sqrt(5),p2:sqrt(5),p3:sqrt(5),x1:4,x2:0,y2:4,theta:b }).evalf()\r\n",
        "\r\n",
        "  #check that there actually is a zero in the range\r\n",
        "  #if not, check for continuity\r\n",
        "  if (sign(f_a)*sign(f_b)>= 0):\r\n",
        "    return 'NaN'\r\n",
        "  \r\n",
        "  '''\r\n",
        "  else:\r\n",
        "    cont = continuous_domain(f, x, Interval(a,b))\r\n",
        "    if (isinstance(cont, Union)):\r\n",
        "      return 'Not continuous'\r\n",
        "  '''\r\n",
        "\r\n",
        "  while ((b-a)/2) > tol:\r\n",
        "    c = (a+b)/2\r\n",
        "    f_c = f.subs({L1:2, L2:sqrt(2), L3:sqrt(2), gamma:pi/2, p1:sqrt(5),p2:sqrt(5),p3:sqrt(5),x1:4,x2:0,y2:4,theta:c }).evalf()\r\n",
        "\r\n",
        "    if f_c == 0:\r\n",
        "      return c\r\n",
        "    else:\r\n",
        "      if (sign(f_c)*sign(f_a)< 0):\r\n",
        "        b = c\r\n",
        "        f_b = f_c\r\n",
        "      else:\r\n",
        "        a = c\r\n",
        "        f_a = f_c\r\n",
        "  return (a+b)/2\r\n",
        "\r\n",
        "#x = symbols('x')\r\n",
        "#func = tan(x)\r\n",
        "\r\n",
        "#print(bisection2(func,1,2,.000005))"
      ],
      "execution_count": null,
      "outputs": []
    },
    {
      "cell_type": "markdown",
      "metadata": {
        "id": "L4bYkmUTLG9I"
      },
      "source": [
        "### Set up the problem\r\n",
        "\r\n",
        "All variables are created and the substitutions are made, putting everything into f."
      ]
    },
    {
      "cell_type": "code",
      "metadata": {
        "id": "H-mCgPTzMuEz"
      },
      "source": [
        "p1, p2, p3, L1, L2, L3, gamma, x1, x2, y2, theta = symbols(' p1 p2 p3 L1 L2 L3 gamma x1 x2 y2 theta')\r\n",
        "#A2 = L3*cos(theta) - x1\r\n",
        "#B2 = L3*sin(theta)\r\n",
        "#A3 = L2*cos(theta + gamma)-x2\r\n",
        "#B3 = L2*sin(theta+gamma)-y2\r\n",
        "\r\n",
        "#N1 = (L2*sin(theta+gamma)-y2)*((p2**2)-(p1**2)-((L3*cos(theta) - x1)**2)-(L3*sin(theta))**2)-(L3*sin(theta))*((p3**2)-(p1**2)-((L2*cos(theta + gamma)-x2)**2)-(L2*sin(theta+gamma)-y2)**2)\r\n",
        "#N2 = -(L2*cos(theta + gamma)-x2)*((p2**2)-(p1**2)-((L3*cos(theta) - x1)**2)-((L3*sin(theta))**2))+(L3*cos(theta) - x1)*((p3**2)-(p1**2)-((L2*cos(theta + gamma)-x2)**2)-((L2*sin(theta+gamma)-y2)**2))\r\n",
        "#D = 2*((L3*cos(theta) - x1)*(L2*sin(theta+gamma)-y2)-(L3*sin(theta))*(L2*cos(theta + gamma)-x2))\r\n",
        "\r\n",
        "f = ((L2*sin(theta+gamma)-y2)*((p2**2)-(p1**2)-((L3*cos(theta) - x1)**2)-(L3*sin(theta))**2)-(L3*sin(theta))*((p3**2)-(p1**2)-((L2*cos(theta + gamma)-x2)**2)-(L2*sin(theta+gamma)-y2)**2))**2+(-(L2*cos(theta + gamma)-x2)*((p2**2)-(p1**2)-((L3*cos(theta) - x1)**2)-((L3*sin(theta))**2))+(L3*cos(theta) - x1)*((p3**2)-(p1**2)-((L2*cos(theta + gamma)-x2)**2)-((L2*sin(theta+gamma)-y2)**2)))**2-(p1**2)*(2*((L3*cos(theta) - x1)*(L2*sin(theta+gamma)-y2)-(L3*sin(theta))*(L2*cos(theta + gamma)-x2)))**2\r\n",
        "\r\n"
      ],
      "execution_count": null,
      "outputs": []
    },
    {
      "cell_type": "markdown",
      "metadata": {
        "id": "38W3gHj2KpVq"
      },
      "source": [
        "Below we test that it is able to find a known solution of pi/4 - which it does!"
      ]
    },
    {
      "cell_type": "code",
      "metadata": {
        "colab": {
          "base_uri": "https://localhost:8080/"
        },
        "id": "xH6jfnS-YHfT",
        "outputId": "eaef7d1a-764d-41f8-9289-e60d9fe39fac"
      },
      "source": [
        "print(bisection2(f,0,3,.000005))"
      ],
      "execution_count": null,
      "outputs": [
        {
          "output_type": "stream",
          "text": [
            "0.7853994369506836\n"
          ],
          "name": "stdout"
        }
      ]
    },
    {
      "cell_type": "markdown",
      "metadata": {
        "id": "6cBnqK8RLhrm"
      },
      "source": [
        "## Task 1\r\n",
        "\r\n",
        "Here we test that our function is solved for theta of pi/4 and -pi/4.  The solutions of which are zero."
      ]
    },
    {
      "cell_type": "code",
      "metadata": {
        "colab": {
          "base_uri": "https://localhost:8080/"
        },
        "id": "KQ0MpA93pvTx",
        "outputId": "a727bf76-e60c-4b0b-c70c-35a9f03e9bbf"
      },
      "source": [
        "x = f.subs({L1:2, L2:sqrt(2), L3:sqrt(2), gamma:pi/2, p1:sqrt(5),p2:sqrt(5),p3:sqrt(5),x1:4,x2:0,y2:4,theta:pi/4 }).evalf()\r\n",
        "y = f.subs({L1:2, L2:sqrt(2), L3:sqrt(2), gamma:pi/2, p1:sqrt(5),p2:sqrt(5),p3:sqrt(5),x1:4,x2:0,y2:4,theta:-pi/4 }).evalf()\r\n",
        "print(x,y)"
      ],
      "execution_count": null,
      "outputs": [
        {
          "output_type": "stream",
          "text": [
            "0 0\n"
          ],
          "name": "stdout"
        }
      ]
    },
    {
      "cell_type": "markdown",
      "metadata": {
        "id": "d4un8N4OTtEU"
      },
      "source": [
        "## Task 2\r\n",
        "\r\n",
        "Here we draw the chart for the given task, as outlined below in the *x* variable, which uses the *subs* command to fill in the fixed values, leaving *theta* to vary."
      ]
    },
    {
      "cell_type": "code",
      "metadata": {
        "id": "v3SPggEiSQ39"
      },
      "source": [
        "f = ((L2*sin(theta+gamma)-y2)*((p2**2)-(p1**2)-((L3*cos(theta) - x1)**2)-(L3*sin(theta))**2)-(L3*sin(theta))*((p3**2)-(p1**2)-((L2*cos(theta + gamma)-x2)**2)-(L2*sin(theta+gamma)-y2)**2))**2+(-(L2*cos(theta + gamma)-x2)*((p2**2)-(p1**2)-((L3*cos(theta) - x1)**2)-((L3*sin(theta))**2))+(L3*cos(theta) - x1)*((p3**2)-(p1**2)-((L2*cos(theta + gamma)-x2)**2)-((L2*sin(theta+gamma)-y2)**2)))**2-(p1**2)*(2*((L3*cos(theta) - x1)*(L2*sin(theta+gamma)-y2)-(L3*sin(theta))*(L2*cos(theta + gamma)-x2)))**2\r\n",
        "x = f.subs({L1:2, L2:sqrt(2), L3:sqrt(2), gamma:pi/2, p1:sqrt(5),p2:sqrt(5),p3:sqrt(5),x1:4,x2:0,y2:4})"
      ],
      "execution_count": null,
      "outputs": []
    },
    {
      "cell_type": "code",
      "metadata": {
        "colab": {
          "base_uri": "https://localhost:8080/",
          "height": 265
        },
        "id": "BcZHKeC1S6QS",
        "outputId": "5a53d278-9237-49b8-9db1-be52bd7a3043"
      },
      "source": [
        "from sympy import symbols\r\n",
        "from numpy import linspace\r\n",
        "from sympy import lambdify\r\n",
        "import matplotlib.pyplot as mpl\r\n",
        "import math\r\n",
        "\r\n",
        "lam_x = lambdify(theta, x, modules=['numpy'])\r\n",
        "\r\n",
        "x_vals = linspace(-math.pi, math.pi, 100)\r\n",
        "y_vals = lam_x(x_vals)\r\n",
        "\r\n",
        "mpl.plot(x_vals, y_vals)\r\n",
        "mpl.show()"
      ],
      "execution_count": null,
      "outputs": [
        {
          "output_type": "display_data",
          "data": {
            "image/png": "[encoded data removed]",
            "text/plain": [
              "<Figure size 432x288 with 1 Axes>"
            ]
          },
          "metadata": {
            "tags": [],
            "needs_background": "light"
          }
        }
      ]
    },
    {
      "cell_type": "markdown",
      "metadata": {
        "id": "0oFfuZ1wT1M_"
      },
      "source": [
        "## Task 3\r\n",
        "\r\n",
        "Here I solve for the required zeros using the bisection method as above, after drawing the picture to get a \"feel\" for where the solutions might exist."
      ]
    },
    {
      "cell_type": "code",
      "metadata": {
        "id": "_7zW0l6qT2xH"
      },
      "source": [
        "def bisection3(f,a,b,tol):\r\n",
        "  f_a = f.subs({L1:3, L2:3*sqrt(2), L3:3, gamma:pi/4, p1:5,p2:5,p3:3,x1:5,x2:0,y2:6,theta:a }).evalf()\r\n",
        "\r\n",
        "  f_b = f.subs({L1:3, L2:3*sqrt(2), L3:3, gamma:pi/4, p1:5,p2:5,p3:3,x1:5,x2:0,y2:6,theta:b }).evalf()\r\n",
        "\r\n",
        "  #check that there actually is a zero in the range\r\n",
        "  #if not, check for continuity\r\n",
        "  if (sign(f_a)*sign(f_b)>= 0):\r\n",
        "    return 'NaN'\r\n",
        "  \r\n",
        "  '''\r\n",
        "  else:\r\n",
        "    cont = continuous_domain(f, x, Interval(a,b))\r\n",
        "    if (isinstance(cont, Union)):\r\n",
        "      return 'Not continuous'\r\n",
        "  '''\r\n",
        "\r\n",
        "  while ((b-a)/2) > tol:\r\n",
        "    c = (a+b)/2\r\n",
        "    f_c =f.subs({L1:3, L2:3*sqrt(2), L3:3, gamma:pi/4, p1:5,p2:5,p3:3,x1:5,x2:0,y2:6,theta:c }).evalf()\r\n",
        "\r\n",
        "    if f_c == 0:\r\n",
        "      return c\r\n",
        "    else:\r\n",
        "      if (sign(f_c)*sign(f_a)< 0):\r\n",
        "        b = c\r\n",
        "        f_b = f_c\r\n",
        "      else:\r\n",
        "        a = c\r\n",
        "        f_a = f_c\r\n",
        "  return (a+b)/2\r\n",
        "\r\n",
        "#f = ((L2*sin(theta+gamma)-y2)*((p2**2)-(p1**2)-((L3*cos(theta) - x1)**2)-(L3*sin(theta))**2)-(L3*sin(theta))*((p3**2)-(p1**2)-((L2*cos(theta + gamma)-x2)**2)-(L2*sin(theta+gamma)-y2)**2))**2+(-(L2*cos(theta + gamma)-x2)*((p2**2)-(p1**2)-((L3*cos(theta) - x1)**2)-((L3*sin(theta))**2))+(L3*cos(theta) - x1)*((p3**2)-(p1**2)-((L2*cos(theta + gamma)-x2)**2)-((L2*sin(theta+gamma)-y2)**2)))**2-(p1**2)*(2*((L3*cos(theta) - x1)*(L2*sin(theta+gamma)-y2)-(L3*sin(theta))*(L2*cos(theta + gamma)-x2)))**2\r\n"
      ],
      "execution_count": null,
      "outputs": []
    },
    {
      "cell_type": "code",
      "metadata": {
        "colab": {
          "base_uri": "https://localhost:8080/",
          "height": 265
        },
        "id": "njMRlyDGVbwl",
        "outputId": "6d505d1a-d9a7-44b2-d789-b296f714a38a"
      },
      "source": [
        "f = ((L2*sin(theta+gamma)-y2)*((p2**2)-(p1**2)-((L3*cos(theta) - x1)**2)-(L3*sin(theta))**2)-(L3*sin(theta))*((p3**2)-(p1**2)-((L2*cos(theta + gamma)-x2)**2)-(L2*sin(theta+gamma)-y2)**2))**2+(-(L2*cos(theta + gamma)-x2)*((p2**2)-(p1**2)-((L3*cos(theta) - x1)**2)-((L3*sin(theta))**2))+(L3*cos(theta) - x1)*((p3**2)-(p1**2)-((L2*cos(theta + gamma)-x2)**2)-((L2*sin(theta+gamma)-y2)**2)))**2-(p1**2)*(2*((L3*cos(theta) - x1)*(L2*sin(theta+gamma)-y2)-(L3*sin(theta))*(L2*cos(theta + gamma)-x2)))**2\r\n",
        "x = f.subs({L1:3, L2:3*sqrt(2), L3:3, gamma:pi/4, p1:5,p2:5,p3:3,x1:5,x2:0,y2:6})\r\n",
        "\r\n",
        "from sympy import symbols\r\n",
        "from numpy import linspace\r\n",
        "from sympy import lambdify\r\n",
        "import matplotlib.pyplot as mpl\r\n",
        "import math\r\n",
        "\r\n",
        "lam_x = lambdify(theta, x, modules=['numpy'])\r\n",
        "\r\n",
        "x_vals = linspace(-math.pi, math.pi, 100)\r\n",
        "y_vals = lam_x(x_vals)\r\n",
        "\r\n",
        "mpl.plot(x_vals, y_vals)\r\n",
        "mpl.show()"
      ],
      "execution_count": null,
      "outputs": [
        {
          "output_type": "display_data",
          "data": {
            "image/png": "[encoded data removed]",
            "text/plain": [
              "<Figure size 432x288 with 1 Axes>"
            ]
          },
          "metadata": {
            "tags": [],
            "needs_background": "light"
          }
        }
      ]
    },
    {
      "cell_type": "markdown",
      "metadata": {
        "id": "eX20HT43V6DC"
      },
      "source": [
        "###Approach\r\n",
        "\r\n",
        "I plot the function first to see what range I should choose. After I implement the very technical \"eyeball approach\", I see that it should be sufficient to break my search up into a range of .05.\r\n",
        "\r\n",
        "As such, I created a function that chops the range into intervals and tests for a solution.  If there is a solution then the theta is recorded in the *answers* list, otherwisse it is skipped (as a NaN).\r\n"
      ]
    },
    {
      "cell_type": "code",
      "metadata": {
        "id": "SspIsc-OWRHE"
      },
      "source": [
        "def zeros_in_intervals(f,a,b,tol,bin_size):\r\n",
        "  arr = linspace(a,b,bin_size+1)\r\n",
        "  answers = []\r\n",
        "  for _ in range(bin_size):\r\n",
        "    answers.append(bisection3(f,arr[_],arr[_+1],tol))\r\n",
        "    \r\n",
        "  sol = [x for x in answers if str(x) != 'NaN']\r\n",
        "  return sol"
      ],
      "execution_count": null,
      "outputs": []
    },
    {
      "cell_type": "code",
      "metadata": {
        "id": "9yZCMAYqWzNJ",
        "colab": {
          "base_uri": "https://localhost:8080/"
        },
        "outputId": "b2092b81-028e-495b-f5a7-0aff8377fc62"
      },
      "source": [
        "thetas = zeros_in_intervals(f,-2,2.5,.00005, 10)\r\n",
        "print(thetas)"
      ],
      "execution_count": null,
      "outputs": [
        {
          "output_type": "stream",
          "text": [
            "[-0.7208343505859374, -0.33098449707031247, 1.1437103271484372, 2.1158905029296875]\n"
          ],
          "name": "stdout"
        }
      ]
    },
    {
      "cell_type": "markdown",
      "metadata": {
        "id": "GES2THu6Xj6p"
      },
      "source": [
        "We can see that there are 4 zeros, and thus four positions for x,y which are solved for below."
      ]
    },
    {
      "cell_type": "code",
      "metadata": {
        "colab": {
          "base_uri": "https://localhost:8080/"
        },
        "id": "Cc-2ETB6kSqR",
        "outputId": "171ddf90-9898-4a58-b57e-5635d7c5c66f"
      },
      "source": [
        "N1 = (L2*sin(theta+gamma)-y2)*((p2**2)-(p1**2)-((L3*cos(theta) - x1)**2)-(L3*sin(theta))**2)-(L3*sin(theta))*((p3**2)-(p1**2)-((L2*cos(theta + gamma)-x2)**2)-(L2*sin(theta+gamma)-y2)**2)\r\n",
        "N2 = -(L2*cos(theta + gamma)-x2)*((p2**2)-(p1**2)-((L3*cos(theta) - x1)**2)-((L3*sin(theta))**2))+(L3*cos(theta) - x1)*((p3**2)-(p1**2)-((L2*cos(theta + gamma)-x2)**2)-((L2*sin(theta+gamma)-y2)**2))\r\n",
        "D = 2*((L3*cos(theta) - x1)*(L2*sin(theta+gamma)-y2)-(L3*sin(theta))*(L2*cos(theta + gamma)-x2))\r\n",
        "\r\n",
        "N1_list = []\r\n",
        "N2_list = []\r\n",
        "D_list = []\r\n",
        "for k in thetas:\r\n",
        "  N1_list.append(N1.subs({L1:3, L2:3*sqrt(2), L3:3, gamma:pi/4, p1:5,p2:5,p3:3,x1:5,x2:0,y2:6,theta:k}).evalf())\r\n",
        "  N2_list.append(N2.subs({L1:3, L2:3*sqrt(2), L3:3, gamma:pi/4, p1:5,p2:5,p3:3,x1:5,x2:0,y2:6,theta:k}).evalf())\r\n",
        "  D_list.append(D.subs({L1:3, L2:3*sqrt(2), L3:3, gamma:pi/4, p1:5,p2:5,p3:3,x1:5,x2:0,y2:6,theta:k}).evalf())\r\n",
        "\r\n",
        "for i in range(len(thetas)):\r\n",
        "  print('X -', N1_list[i]/D_list[i], '\\tY -', N2_list[i]/D_list[i])"
      ],
      "execution_count": null,
      "outputs": [
        {
          "output_type": "stream",
          "text": [
            "X - -1.37838026658637 \tY - 4.80624057436060\n",
            "X - -0.914649565254706 \tY - 4.91566112219290\n",
            "X - 4.48169737665730 \tY - 2.21662512802571\n",
            "X - 4.57182164379588 \tY - 2.02440624804186\n"
          ],
          "name": "stdout"
        }
      ]
    },
    {
      "cell_type": "markdown",
      "metadata": {
        "id": "JoH4rsHqXqe-"
      },
      "source": [
        "###Summary\r\n",
        "\r\n",
        "The exercise was a very intersting application of using numerical methods to solve a formula that does not have an easier closed form approach.  It was very interesting to apply my knowledge and learn about sympy in the process."
      ]
    }
  ]
}