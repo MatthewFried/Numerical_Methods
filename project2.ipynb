{
 "cells": [
  {
   "cell_type": "code",
   "execution_count": 362,
   "id": "victorian-springfield",
   "metadata": {},
   "outputs": [],
   "source": [
    "import numpy as np\n",
    "#number of the satellite positions\n",
    "A1 = 15600;B1 = 7540;C1 = 20140;t1 = 0.07074\n",
    "A2 = 18760;B2 = 2750;C2 = 18610;t2 = 0.07220\n",
    "A3 = 17610;B3 = 14630;C3 = 13480;t3 = 0.07690\n",
    "A4 = 19170;B4 = 610;C4 = 18390;t4 = 0.07242\n",
    "c = 299792.458"
   ]
  },
  {
   "cell_type": "code",
   "execution_count": 363,
   "id": "prescription-taste",
   "metadata": {},
   "outputs": [],
   "source": [
    "def fx(xx):\n",
    "    x = xx[0]\n",
    "    y = xx[1]\n",
    "    z = xx[2]\n",
    "    d = xx[3]\n",
    "    fxn = np.array([(x-A1)**2+(y-B1)**2+(z-C1)**2-((c*(t1-d))**2),\n",
    "                   (x-A2)**2+(y-B2)**2+(z-C2)**2-((c*(t2-d))**2),\n",
    "                   (x-A3)**2+(y-B3)**2+(z-C3)**2-((c*(t3-d))**2),\n",
    "                   (x-A4)**2+(y-B4)**2+(z-C4)**2-((c*(t4-d))**2)])\n",
    "    '''fx = np.array([((x-A1)**2+(y-B1)**2+(z-C1)**2)**0.5-(c*(t1-d)),\n",
    "                   ((x-A2)**2+(y-B2)**2+(z-C2)**2)**0.5-(c*(t2-d)),\n",
    "                   ((x-A3)**2+(y-B3)**2+(z-C3)**2)**0.5-(c*(t3-d)),\n",
    "                   ((x-A4)**2+(y-B4)**2+(z-C4)**2)**0.5-(c*(t1-d))])'''\n",
    "    \n",
    "    return fxn"
   ]
  },
  {
   "cell_type": "code",
   "execution_count": 364,
   "id": "possible-helicopter",
   "metadata": {},
   "outputs": [],
   "source": [
    "def dfx(xx):\n",
    "    x = xx[0]\n",
    "    y = xx[1]\n",
    "    z = xx[2]\n",
    "    d = xx[3]\n",
    "    a = ((x-A1)**2+(y-B1)**2+(z-C1)**2)**0.5\n",
    "    b = ((x-A2)**2+(y-B2)**2+(z-C2)**2)**0.5\n",
    "    cc = ((x-A3)**2+(y-B3)**2+(z-C3)**2)**0.5\n",
    "    fxn = np.array([[2*(x-A1),2*(y-B1),2*(z-C1), 2*(c**2)*(t1-d)],\n",
    "                   [2*(x-A2),2*(y-B2),2*(z-C2), 2*(c**2)*(t2-d)],\n",
    "                   [2*(x-A3),2*(y-B3),2*(z-C3), 2*(c**2)*(t3-d)],\n",
    "                   [2*(x-A4),2*(y-B4),2*(z-C4), 2*(c**2)*(t4-d)]])\n",
    "    '''fxn = np.array([[(x-A1)/a, (y-B1)/b, (z-C1)/cc, c*(t1-d)],\n",
    "                   [(x-A2)/a, (y-B2)/b, (z-C2)/cc, c*(t2-d)],\n",
    "                   [(x-A3)/a, (y-B3)/b, (z-C3)/cc, c*(t3-d)],\n",
    "                   [(x-A4)/a, (y-B4)/b, (z-C4)/cc, c*(t4-d)]])'''\n",
    "   \n",
    "    return fxn"
   ]
  },
  {
   "cell_type": "code",
   "execution_count": 371,
   "id": "suffering-browser",
   "metadata": {},
   "outputs": [],
   "source": [
    "def nonlinearNewTon(F, dFx, x0, n, eps):\n",
    "    x = x0\n",
    "    fx = F(x0)\n",
    "    Gradr_norm = np.linalg.norm(np.dot(F(x0),dFx(x0)),ord=2)\n",
    "    step = 0\n",
    "    while abs(Gradr_norm)>eps and step<n:\n",
    "        v=np.linalg.lstsq(dFx(x), -fx,rcond=None)[0]\n",
    "        x = x+v\n",
    "        fx = F(x)\n",
    "        dfx = dFx(x)\n",
    "        Gradr_norm = np.linalg.norm(np.dot(fx,dfx),ord=2)\n",
    "        step += 1\n",
    "    if abs(Gradr_norm) > eps:\n",
    "        step = -1\n",
    "    return x, step"
   ]
  },
  {
   "cell_type": "code",
   "execution_count": 372,
   "id": "naval-bible",
   "metadata": {},
   "outputs": [
    {
     "name": "stdout",
     "output_type": "stream",
     "text": [
      "[-4.17727096e+01 -1.67891941e+01  6.37005956e+03 -3.20156583e-03] -1\n"
     ]
    }
   ],
   "source": [
    "x, n = nonlinearNewTon(fx, dfx, x0=np.array([0.0, 0.0, 6370.0, 0.0]), n=700, eps=0.00000001)\n",
    "print(x, n)"
   ]
  },
  {
   "cell_type": "code",
   "execution_count": null,
   "id": "elegant-sheriff",
   "metadata": {},
   "outputs": [],
   "source": []
  },
  {
   "cell_type": "code",
   "execution_count": null,
   "id": "changing-association",
   "metadata": {},
   "outputs": [],
   "source": []
  },
  {
   "cell_type": "code",
   "execution_count": null,
   "id": "figured-contact",
   "metadata": {},
   "outputs": [],
   "source": []
  }
 ],
 "metadata": {
  "kernelspec": {
   "display_name": "Python 3",
   "language": "python",
   "name": "python3"
  },
  "language_info": {
   "codemirror_mode": {
    "name": "ipython",
    "version": 3
   },
   "file_extension": ".py",
   "mimetype": "text/x-python",
   "name": "python",
   "nbconvert_exporter": "python",
   "pygments_lexer": "ipython3",
   "version": "3.7.1"
  }
 },
 "nbformat": 4,
 "nbformat_minor": 5
}
