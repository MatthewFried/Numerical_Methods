{
  "nbformat": 4,
  "nbformat_minor": 0,
  "metadata": {
    "colab": {
      "name": "QR Algorithm.ipynb",
      "provenance": []
    },
    "kernelspec": {
      "name": "python3",
      "display_name": "Python 3"
    },
    "language_info": {
      "name": "python"
    }
  },
  "cells": [
    {
      "cell_type": "code",
      "metadata": {
        "id": "6_ZEZelx_br8"
      },
      "source": [
        "import numpy as np"
      ],
      "execution_count": null,
      "outputs": []
    },
    {
      "cell_type": "code",
      "metadata": {
        "id": "FqEEev5r_pzK"
      },
      "source": [
        "#I tried writing code to do Householder reflectors to find QR\n",
        "#but I wasn't able to get the full QR algorithm\n",
        "#instead I use numpy.linalg below\n",
        "\n",
        "def reflector(m):\n",
        "  #get the kth row \n",
        "  if m.ndim > 1:\n",
        "    w_init = m[:,0]\n",
        "  else:\n",
        "    w_init = m\n",
        "\n",
        "\n",
        "  #find the normalized part \n",
        "  w = np.sqrt(np.dot(w_init,w_init))\n",
        "\n",
        "  #convert it w to a vector  \n",
        "  temp = np.zeros(w_init.shape[0])\n",
        "  temp[0] = w\n",
        "  w = temp\n",
        "\n",
        "  #find v\n",
        "  v = w - w_init\n",
        "\n",
        "  #find P\n",
        "  #cannot otherwise multiply vectors and get outer product\n",
        "  vect_column = v.reshape(-1,1)\n",
        "  vect_row = vect_column.T\n",
        "\n",
        "  P = (vect_row @ vect_column)\n",
        "  Q = vect_column @ vect_row\n",
        "\n",
        "  #converts the value in P to a number for scalar multiplication\n",
        "  P = P.item()\n",
        "  P = np.dot(1/P,Q)\n",
        "\n",
        "  #get I\n",
        "  I = np.identity(P.shape[0])\n",
        "  H = I - np.dot(2,P)\n",
        "  return H"
      ],
      "execution_count": null,
      "outputs": []
    },
    {
      "cell_type": "code",
      "metadata": {
        "id": "tW6JMIQcAouE"
      },
      "source": [
        "#I mostly followed the books ideas, except for needing to round, address different indexing, \n",
        "#delete the last row and column, and some other small Python idiosyncrasies\n",
        "\n",
        "def schur(A):  \n",
        "  tol = 1e-14\n",
        "  n = A.shape[0]\n",
        "  lam = []\n",
        "  kountTol = 500\n",
        "\n",
        "  while n > 1:\n",
        "    kount = 0\n",
        "    while np.max(np.abs(A[-1:,:-1])) > tol and kount < kountTol:\n",
        "      kount = kount +1\n",
        "      mu = A[n-1,n-1]\n",
        "      q, r = np.linalg.qr(A-mu*np.identity(n))\n",
        "      A = r @ q+ mu*np.identity(n)\n",
        "    if kount < kountTol:\n",
        "      lam.append(A[n-1,n-1])\n",
        "      n= n-1\n",
        "      A = np.delete(A,n,0)\n",
        "      A = np.delete(A,n,1)\n",
        "    else:\n",
        "      disc = (A[n-2,n-2]-A[n-1,n-1])**2 + 4*A[n-1,n-2]*A[n-2,n-1]\n",
        "      disc = round(disc,5)\n",
        "      lam.append((A[n-2,n-2]+A[n-1,n-1]+np.sqrt(disc))/2)\n",
        "      lam.append((A[n-2,n-2]+A[n-1,n-1]-np.sqrt(disc))/2)\n",
        "      n= n-1\n",
        "      A = np.delete(A,n,0)\n",
        "      A = np.delete(A,n,1)\n",
        "      n= n-1\n",
        "      A = np.delete(A,n,0)\n",
        "      A = np.delete(A,n,1)\n",
        "\n",
        "\n",
        "  if n > 0:\n",
        "    lam.append(A.item())\n",
        "  lam = [round(num, 8) for num in lam]\n",
        "  print(lam)\n"
      ],
      "execution_count": 77,
      "outputs": []
    },
    {
      "cell_type": "code",
      "metadata": {
        "colab": {
          "base_uri": "https://localhost:8080/"
        },
        "id": "Oiz3WfQE6jxI",
        "outputId": "9758ab14-28ca-4e0b-cb4b-c2113134e207"
      },
      "source": [
        "#test it on examples in the book\n",
        "\n",
        "B = np.array([[3,1,-2],[4,4,1],[-3,0,3]])\n",
        "C = np.array([[-1,1,3],[3,3,-2],[-5,2,7]])\n",
        "schur(B)\n",
        "schur(C)"
      ],
      "execution_count": 78,
      "outputs": [
        {
          "output_type": "stream",
          "text": [
            "[3.89136884, 6.23233078, -0.12369962]\n",
            "[2.99997911, 3.00001045, 3.00001045]\n"
          ],
          "name": "stdout"
        }
      ]
    }
  ]
}